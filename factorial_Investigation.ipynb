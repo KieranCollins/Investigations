{
 "cells": [
  {
   "cell_type": "markdown",
   "metadata": {},
   "source": [
    "# Factorials Python-3"
   ]
  },
  {
   "cell_type": "markdown",
   "metadata": {},
   "source": [
    "### Recursion"
   ]
  },
  {
   "cell_type": "markdown",
   "metadata": {},
   "source": [
    " Pro, shows a bit of flare. \n",
    " Con, depth limit."
   ]
  },
  {
   "cell_type": "code",
   "execution_count": 20,
   "metadata": {},
   "outputs": [],
   "source": [
    "import math\n",
    "def recursiveFactorial(N):\n",
    "    if N==1:\n",
    "        return(N)\n",
    "    else:\n",
    "        return(N*recursiveFactorial(N-1))"
   ]
  },
  {
   "cell_type": "markdown",
   "metadata": {},
   "source": [
    "### Iterative  "
   ]
  },
  {
   "cell_type": "markdown",
   "metadata": {},
   "source": [
    "Pro, fastest method to generate if standard libraries are not allowed."
   ]
  },
  {
   "cell_type": "code",
   "execution_count": 21,
   "metadata": {},
   "outputs": [],
   "source": [
    "def iterativeFactorial(N):\n",
    "    res = 1\n",
    "    for i in range(1,N+1): res*= i\n",
    "    return(res)"
   ]
  },
  {
   "cell_type": "markdown",
   "metadata": {},
   "source": [
    "### Stirling's Approximation"
   ]
  },
  {
   "cell_type": "markdown",
   "metadata": {},
   "source": [
    "Pro, fastest for large numbers.\n",
    "Con, not 100% accurate.\n",
    "Con, not fastest for low N.\n",
    "Con, requires precise constant values to be accurate."
   ]
  },
  {
   "cell_type": "code",
   "execution_count": 22,
   "metadata": {},
   "outputs": [],
   "source": [
    "import math\n",
    "def stirlingFactorial(n): \n",
    "    if (n == 1): \n",
    "        return 1\n",
    "    z = (math.sqrt(2 * math.pi * n) * math.pow((n / math.e), n)) \n",
    "    return math.floor(z) "
   ]
  },
  {
   "cell_type": "markdown",
   "metadata": {},
   "source": [
    "### Time comparison"
   ]
  },
  {
   "cell_type": "code",
   "execution_count": 10,
   "metadata": {},
   "outputs": [
    {
     "name": "stdout",
     "output_type": "stream",
     "text": [
      "18.3 µs ± 1.25 µs per loop (mean ± std. dev. of 7 runs, 100000 loops each)\n",
      "8.99 µs ± 804 ns per loop (mean ± std. dev. of 7 runs, 100000 loops each)\n",
      "1.55 µs ± 35.3 ns per loop (mean ± std. dev. of 7 runs, 1000000 loops each)\n",
      "1.67 µs ± 39.5 ns per loop (mean ± std. dev. of 7 runs, 1000000 loops each)\n"
     ]
    }
   ],
   "source": [
    "%timeit recursiveFactorial(100)\n",
    "%timeit iterativeFactorial(100)\n",
    "%timeit stirlingFactorial(100)\n",
    "%timeit math.factorial(100)"
   ]
  },
  {
   "cell_type": "code",
   "execution_count": 23,
   "metadata": {},
   "outputs": [
    {
     "name": "stdout",
     "output_type": "stream",
     "text": [
      "True\n",
      "Stirling method has a 0.0833% error\n"
     ]
    }
   ],
   "source": [
    "print(recursiveFactorial(100) == iterativeFactorial(100) == math.factorial(100))\n",
    "error = abs((stirlingFactorial(100)-math.factorial(100))/math.factorial(100)*100)\n",
    "print(\"Stirling method has a \"+ str(round(error,4))+\"% error\")"
   ]
  },
  {
   "cell_type": "markdown",
   "metadata": {},
   "source": [
    "### Look Up Table"
   ]
  },
  {
   "cell_type": "markdown",
   "metadata": {},
   "source": [
    "Pro, Fastest possible method.\n",
    "Con, must be pre generated using another method.\n",
    "Con, Exctensive memory space usage.\n",
    "Computational Methods suggests: \"The fixed size 171 for the table is because 170! is representable as an IEEE double precision value, but 171! overflows. \n"
   ]
  },
  {
   "cell_type": "code",
   "execution_count": 32,
   "metadata": {},
   "outputs": [
    {
     "name": "stdout",
     "output_type": "stream",
     "text": [
      "146 ns ± 7.86 ns per loop (mean ± std. dev. of 7 runs, 10000000 loops each)\n"
     ]
    }
   ],
   "source": [
    "def tableFactorial(N):\n",
    "    table = {}\n",
    "    for i in range(1,N+1):\n",
    "        table[i] = math.factorial(i)\n",
    "    return(table)   \n",
    "\n",
    "table = tableFactorial(100)\n",
    "\n",
    "def lookupFactorial(N):\n",
    "    return(table[N])\n",
    "\n",
    "%timeit lookupFactorial(100)        "
   ]
  },
  {
   "cell_type": "markdown",
   "metadata": {},
   "source": [
    "### Extra"
   ]
  },
  {
   "cell_type": "markdown",
   "metadata": {},
   "source": [
    "There are N! permutations of a non repeating set of length N.\n",
    "\n",
    "Include a check for all functions above. (if N <0 print(\"N should be a positive\"))."
   ]
  }
 ],
 "metadata": {
  "kernelspec": {
   "display_name": "Python 3",
   "language": "python",
   "name": "python3"
  },
  "language_info": {
   "codemirror_mode": {
    "name": "ipython",
    "version": 3
   },
   "file_extension": ".py",
   "mimetype": "text/x-python",
   "name": "python",
   "nbconvert_exporter": "python",
   "pygments_lexer": "ipython3",
   "version": "3.7.6"
  }
 },
 "nbformat": 4,
 "nbformat_minor": 4
}
